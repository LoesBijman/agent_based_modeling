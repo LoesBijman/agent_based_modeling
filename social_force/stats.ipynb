{
 "cells": [
  {
   "cell_type": "code",
   "execution_count": 16,
   "metadata": {},
   "outputs": [],
   "source": [
    "import pandas as pd\n",
    "from scipy.stats import f_oneway\n",
    "from scipy.stats import ttest_ind as t_test_2_samp\n",
    "import numpy as np\n",
    "from statsmodels.stats.multicomp import pairwise_tukeyhsd"
   ]
  },
  {
   "cell_type": "code",
   "execution_count": 17,
   "metadata": {},
   "outputs": [],
   "source": [
    "# Load data\n",
    "basic_removed = pd.read_csv(\"basic_removed.csv\")\n",
    "signage_removed = pd.read_csv(\"signage_removed.csv\")\n",
    "fire_anouncement_removed = pd.read_csv(\"fire_anouncement_removed.csv\")\n",
    "evacuator_removed = pd.read_csv(\"evacuator_removed.csv\")\n",
    "\n",
    "basic_fire = pd.read_csv(\"basic_know_fire.csv\")\n",
    "signage_fire = pd.read_csv(\"signage_know_fire.csv\")\n",
    "fire_anouncement_fire = pd.read_csv(\"fire_anouncement_know_fire.csv\")\n",
    "evacuator_fire = pd.read_csv(\"evacuator_know_fire.csv\")\n",
    "\n",
    "basic_spread = pd.read_csv(\"basic_exit_spread.csv\")\n",
    "signage_spread = pd.read_csv(\"signage_exit_spread.csv\")\n",
    "fire_anouncement_spread = pd.read_csv(\"fire_anouncement_exit_spread.csv\")\n",
    "evacuator_spread = pd.read_csv(\"evacuator_exit_spread.csv\")\n",
    "\n",
    "basic_goal = pd.read_csv(\"basic_change_goal.csv\")\n",
    "signage_goal = pd.read_csv(\"signage_change_goal.csv\")\n",
    "fire_anouncement_goal = pd.read_csv(\"fire_anouncement_change_goal.csv\")\n",
    "evacuator_goal = pd.read_csv(\"evacuator_change_goal.csv\")"
   ]
  },
  {
   "cell_type": "markdown",
   "metadata": {},
   "source": [
    "Agents removed tests:"
   ]
  },
  {
   "cell_type": "code",
   "execution_count": 18,
   "metadata": {},
   "outputs": [
    {
     "name": "stdout",
     "output_type": "stream",
     "text": [
      "p-value 9.713532543694217e-50 for intervention signage_removed\n",
      "p-value 1.9151327324263992e-93 for intervention fire_announcement_removed\n",
      "p-value 1.6425088689611459e-81 for intervention evacuator_removed\n"
     ]
    }
   ],
   "source": [
    "# Define a dictionary mapping variable names to their values\n",
    "interventions = {\n",
    "    'signage_removed': signage_removed.mean(axis=1),\n",
    "    'fire_announcement_removed': fire_anouncement_removed.mean(axis=1),\n",
    "    'evacuator_removed': evacuator_removed.mean(axis=1)\n",
    "}\n",
    "\n",
    "# Iterate over the dictionary items perform t-test and print p-values\n",
    "for intervention_name, intervention_data in interventions.items():\n",
    "    test = t_test_2_samp(basic_removed.mean(axis=1), intervention_data, alternative=\"less\")\n",
    "    p_value = test.pvalue\n",
    "    print(f'p-value {p_value} for intervention {intervention_name}')"
   ]
  },
  {
   "cell_type": "markdown",
   "metadata": {},
   "source": [
    "Number of agents who have knowledge of disaster:"
   ]
  },
  {
   "cell_type": "code",
   "execution_count": 19,
   "metadata": {},
   "outputs": [
    {
     "name": "stdout",
     "output_type": "stream",
     "text": [
      "p-value 2.967780879343448e-113 for intervention signage_fire\n",
      "p-value 5.465714211489004e-246 for intervention fire_announcement_fire\n",
      "p-value 1.5433464619057866e-203 for intervention evacuator_fire\n"
     ]
    }
   ],
   "source": [
    "# Define a dictionary mapping variable names to their values\n",
    "interventions = {\n",
    "    'signage_fire': signage_fire.mean(axis=1),\n",
    "    'fire_announcement_fire': fire_anouncement_fire.mean(axis=1),\n",
    "    'evacuator_fire': evacuator_fire.mean(axis=1)\n",
    "}\n",
    "\n",
    "# Iterate over the dictionary items perform t-test and print p-values\n",
    "for intervention_name, intervention_data in interventions.items():\n",
    "    test = t_test_2_samp(basic_fire.mean(axis=1), intervention_data, alternative=\"less\")\n",
    "    p_value = test.pvalue\n",
    "    print(f'p-value {p_value} for intervention {intervention_name}')"
   ]
  },
  {
   "cell_type": "markdown",
   "metadata": {},
   "source": [
    "Agents spreading exit knowledge:"
   ]
  },
  {
   "cell_type": "code",
   "execution_count": 20,
   "metadata": {},
   "outputs": [
    {
     "name": "stdout",
     "output_type": "stream",
     "text": [
      "p-value 3.617862407556957e-126 for intervention signage_spread\n",
      "p-value 9.669098102016967e-210 for intervention fire_announcement_spread\n",
      "p-value 7.971292094599914e-192 for intervention evacuator_spread\n"
     ]
    }
   ],
   "source": [
    "# Define a dictionary mapping variable names to their values\n",
    "interventions = {\n",
    "    'signage_spread': signage_spread.mean(axis=1),\n",
    "    'fire_announcement_spread': fire_anouncement_spread.mean(axis=1),\n",
    "    'evacuator_spread': evacuator_spread.mean(axis=1)\n",
    "}\n",
    "\n",
    "# Iterate over the dictionary items perform t-test and print p-values\n",
    "for intervention_name, intervention_data in interventions.items():\n",
    "    test = t_test_2_samp(basic_spread.mean(axis=1), intervention_data, alternative=\"less\")\n",
    "    p_value = test.pvalue\n",
    "    print(f'p-value {p_value} for intervention {intervention_name}')"
   ]
  },
  {
   "cell_type": "markdown",
   "metadata": {},
   "source": [
    "Number of agents changing goal:"
   ]
  },
  {
   "cell_type": "code",
   "execution_count": 21,
   "metadata": {},
   "outputs": [
    {
     "name": "stdout",
     "output_type": "stream",
     "text": [
      "p-value 4.4908436077556734e-145 for intervention signage_goal\n",
      "p-value 2.189572705509005e-207 for intervention fire_announcement_goal\n",
      "p-value 1.8757194345571063e-175 for intervention evacuator_goal\n"
     ]
    }
   ],
   "source": [
    "# Define a dictionary mapping variable names to their values\n",
    "interventions = {\n",
    "    'signage_goal': signage_goal.mean(axis=1),\n",
    "    'fire_announcement_goal': fire_anouncement_goal.mean(axis=1),\n",
    "    'evacuator_goal': evacuator_goal.mean(axis=1)\n",
    "}\n",
    "\n",
    "# Iterate over the dictionary items perform t-test and print p-values\n",
    "for intervention_name, intervention_data in interventions.items():\n",
    "    test = t_test_2_samp(basic_goal.mean(axis=1), intervention_data, alternative=\"less\")\n",
    "    p_value = test.pvalue\n",
    "    print(f'p-value {p_value} for intervention {intervention_name}')"
   ]
  },
  {
   "cell_type": "markdown",
   "metadata": {},
   "source": [
    "ANOVA:"
   ]
  },
  {
   "cell_type": "code",
   "execution_count": 22,
   "metadata": {},
   "outputs": [
    {
     "name": "stdout",
     "output_type": "stream",
     "text": [
      "ANOVA for Agents Removed:\n",
      "F-statistic: 104.39076029813322\n",
      "p-value: 6.281392542621957e-38\n",
      "\n",
      "ANOVA for Knowledge of Disaster:\n",
      "F-statistic: 930.1259212903814\n",
      "p-value: 4.920379351687047e-160\n",
      "\n",
      "ANOVA for Spreading Exit Knowledge:\n",
      "F-statistic: 666.676619232807\n",
      "p-value: 7.171342097404843e-135\n",
      "\n",
      "ANOVA for Changing Goals:\n",
      "F-statistic: 2002.7585669935495\n",
      "p-value: 7.592415381279086e-224\n"
     ]
    }
   ],
   "source": [
    "# Extracting the data for ANOVA\n",
    "data_signage_removed = signage_removed.mean(axis=1)\n",
    "data_fire_announcement_removed = fire_anouncement_removed.mean(axis=1)\n",
    "data_evacuator_removed = evacuator_removed.mean(axis=1)\n",
    "\n",
    "data_signage_fire = signage_fire.mean(axis=1)\n",
    "data_fire_announcement_fire = fire_anouncement_fire.mean(axis=1)\n",
    "data_evacuator_fire = evacuator_fire.mean(axis=1)\n",
    "\n",
    "data_signage_spread = signage_spread.mean(axis=1)\n",
    "data_fire_announcement_spread = fire_anouncement_spread.mean(axis=1)\n",
    "data_evacuator_spread = evacuator_spread.mean(axis=1)\n",
    "\n",
    "data_signage_goal = signage_goal.mean(axis=1)\n",
    "data_fire_announcement_goal = fire_anouncement_goal.mean(axis=1)\n",
    "data_evacuator_goal = evacuator_goal.mean(axis=1)\n",
    "\n",
    "# ANOVA for Agents Removed\n",
    "f_statistic, p_value_anova_agents_removed = f_oneway(data_signage_removed, data_fire_announcement_removed, data_evacuator_removed)\n",
    "print(f'ANOVA for Agents Removed:')\n",
    "print(f'F-statistic: {f_statistic}')\n",
    "print(f'p-value: {p_value_anova_agents_removed}')\n",
    "\n",
    "# ANOVA for Knowledge of Disaster\n",
    "f_statistic, p_value_anova_knowledge_disaster = f_oneway(data_signage_fire, data_fire_announcement_fire, data_evacuator_fire)\n",
    "print(f'\\nANOVA for Knowledge of Disaster:')\n",
    "print(f'F-statistic: {f_statistic}')\n",
    "print(f'p-value: {p_value_anova_knowledge_disaster}')\n",
    "\n",
    "# Perform ANOVA for Spreading Exit Knowledge\n",
    "f_statistic, p_value_anova_spreading_exit = f_oneway(data_signage_spread, data_fire_announcement_spread, data_evacuator_spread)\n",
    "print(f'\\nANOVA for Spreading Exit Knowledge:')\n",
    "print(f'F-statistic: {f_statistic}')\n",
    "print(f'p-value: {p_value_anova_spreading_exit}')\n",
    "\n",
    "# Perform ANOVA for Changing Goals\n",
    "f_statistic, p_value_anova_changing_goals = f_oneway(data_signage_goal, data_fire_announcement_goal, data_evacuator_goal)\n",
    "print(f'\\nANOVA for Changing Goals:')\n",
    "print(f'F-statistic: {f_statistic}')\n",
    "print(f'p-value: {p_value_anova_changing_goals}')"
   ]
  },
  {
   "cell_type": "code",
   "execution_count": 25,
   "metadata": {},
   "outputs": [
    {
     "name": "stdout",
     "output_type": "stream",
     "text": [
      "Tukey's HSD for Agents Removed:\n",
      "            Multiple Comparison of Means - Tukey HSD, FWER=0.05            \n",
      "===========================================================================\n",
      "      group1            group2      meandiff p-adj  lower    upper   reject\n",
      "---------------------------------------------------------------------------\n",
      "            Basic         Evacuator  85.6162   0.0  76.2359  94.9965   True\n",
      "            Basic Fire Announcement  102.172   0.0  92.7917 111.5523   True\n",
      "            Basic           Signage  43.7958   0.0  34.4155  53.1761   True\n",
      "        Evacuator Fire Announcement  16.5558   0.0   7.1755  25.9361   True\n",
      "        Evacuator           Signage -41.8204   0.0 -51.2007 -32.4402   True\n",
      "Fire Announcement           Signage -58.3762   0.0 -67.7565 -48.9959   True\n",
      "---------------------------------------------------------------------------\n",
      "            Multiple Comparison of Means - Tukey HSD, FWER=0.05            \n",
      "===========================================================================\n",
      "      group1            group2      meandiff p-adj  lower    upper   reject\n",
      "---------------------------------------------------------------------------\n",
      "            Basic         Evacuator  85.6162   0.0  76.2359  94.9965   True\n",
      "            Basic Fire Announcement  102.172   0.0  92.7917 111.5523   True\n",
      "            Basic           Signage  43.7958   0.0  34.4155  53.1761   True\n",
      "        Evacuator Fire Announcement  16.5558   0.0   7.1755  25.9361   True\n",
      "        Evacuator           Signage -41.8204   0.0 -51.2007 -32.4402   True\n",
      "Fire Announcement           Signage -58.3762   0.0 -67.7565 -48.9959   True\n",
      "---------------------------------------------------------------------------\n",
      "\n",
      "Tukey's HSD for Knowledge of Disaster:\n",
      "            Multiple Comparison of Means - Tukey HSD, FWER=0.05            \n",
      "===========================================================================\n",
      "      group1            group2      meandiff p-adj  lower    upper   reject\n",
      "---------------------------------------------------------------------------\n",
      "            Basic         Evacuator  98.4962   0.0  94.6961 102.2963   True\n",
      "            Basic Fire Announcement   122.54   0.0 118.7399 126.3401   True\n",
      "            Basic           Signage  51.7196   0.0  47.9194  55.5197   True\n",
      "        Evacuator Fire Announcement  24.0438   0.0  20.2437  27.8439   True\n",
      "        Evacuator           Signage -46.7767   0.0 -50.5768 -42.9766   True\n",
      "Fire Announcement           Signage -70.8204   0.0 -74.6206 -67.0203   True\n",
      "---------------------------------------------------------------------------\n",
      "            Multiple Comparison of Means - Tukey HSD, FWER=0.05            \n",
      "===========================================================================\n",
      "      group1            group2      meandiff p-adj  lower    upper   reject\n",
      "---------------------------------------------------------------------------\n",
      "            Basic         Evacuator  98.4962   0.0  94.6961 102.2963   True\n",
      "            Basic Fire Announcement   122.54   0.0 118.7399 126.3401   True\n",
      "            Basic           Signage  51.7196   0.0  47.9194  55.5197   True\n",
      "        Evacuator Fire Announcement  24.0438   0.0  20.2437  27.8439   True\n",
      "        Evacuator           Signage -46.7767   0.0 -50.5768 -42.9766   True\n",
      "Fire Announcement           Signage -70.8204   0.0 -74.6206 -67.0203   True\n",
      "---------------------------------------------------------------------------\n",
      "\n",
      "Tukey's HSD for Spreading Exit Knowledge:\n",
      "            Multiple Comparison of Means - Tukey HSD, FWER=0.05            \n",
      "===========================================================================\n",
      "      group1            group2      meandiff p-adj  lower    upper   reject\n",
      "---------------------------------------------------------------------------\n",
      "            Basic         Evacuator  25.4289   0.0  24.1107  26.7471   True\n",
      "            Basic Fire Announcement  39.3016   0.0  37.9833  40.6198   True\n",
      "            Basic           Signage  18.1731   0.0  16.8549  19.4913   True\n",
      "        Evacuator Fire Announcement  13.8727   0.0  12.5545  15.1909   True\n",
      "        Evacuator           Signage  -7.2558   0.0   -8.574  -5.9376   True\n",
      "Fire Announcement           Signage -21.1284   0.0 -22.4467 -19.8102   True\n",
      "---------------------------------------------------------------------------\n",
      "            Multiple Comparison of Means - Tukey HSD, FWER=0.05            \n",
      "===========================================================================\n",
      "      group1            group2      meandiff p-adj  lower    upper   reject\n",
      "---------------------------------------------------------------------------\n",
      "            Basic         Evacuator  25.4289   0.0  24.1107  26.7471   True\n",
      "            Basic Fire Announcement  39.3016   0.0  37.9833  40.6198   True\n",
      "            Basic           Signage  18.1731   0.0  16.8549  19.4913   True\n",
      "        Evacuator Fire Announcement  13.8727   0.0  12.5545  15.1909   True\n",
      "        Evacuator           Signage  -7.2558   0.0   -8.574  -5.9376   True\n",
      "Fire Announcement           Signage -21.1284   0.0 -22.4467 -19.8102   True\n",
      "---------------------------------------------------------------------------\n",
      "\n",
      "Tukey's HSD for Changing Goals:\n",
      "           Multiple Comparison of Means - Tukey HSD, FWER=0.05            \n",
      "==========================================================================\n",
      "      group1            group2      meandiff p-adj  lower   upper   reject\n",
      "--------------------------------------------------------------------------\n",
      "            Basic         Evacuator   12.168   0.0 11.4994  12.8366   True\n",
      "            Basic Fire Announcement  24.1296   0.0  23.461  24.7981   True\n",
      "            Basic           Signage   5.4031   0.0  4.7345   6.0717   True\n",
      "        Evacuator Fire Announcement  11.9616   0.0  11.293  12.6301   True\n",
      "        Evacuator           Signage  -6.7649   0.0 -7.4335  -6.0963   True\n",
      "Fire Announcement           Signage -18.7264   0.0 -19.395 -18.0579   True\n",
      "--------------------------------------------------------------------------\n",
      "           Multiple Comparison of Means - Tukey HSD, FWER=0.05            \n",
      "==========================================================================\n",
      "      group1            group2      meandiff p-adj  lower   upper   reject\n",
      "--------------------------------------------------------------------------\n",
      "            Basic         Evacuator   12.168   0.0 11.4994  12.8366   True\n",
      "            Basic Fire Announcement  24.1296   0.0  23.461  24.7981   True\n",
      "            Basic           Signage   5.4031   0.0  4.7345   6.0717   True\n",
      "        Evacuator Fire Announcement  11.9616   0.0  11.293  12.6301   True\n",
      "        Evacuator           Signage  -6.7649   0.0 -7.4335  -6.0963   True\n",
      "Fire Announcement           Signage -18.7264   0.0 -19.395 -18.0579   True\n",
      "--------------------------------------------------------------------------\n"
     ]
    }
   ],
   "source": [
    "# Combine data for Tukey's HSD\n",
    "data_basic_removed = basic_removed.mean(axis=1)\n",
    "data_basic_fire = basic_fire.mean(axis=1)\n",
    "data_basic_spread = basic_spread.mean(axis=1)\n",
    "data_basic_goal = basic_goal.mean(axis=1)\n",
    "\n",
    "data_removed = np.concatenate([data_basic_removed, data_evacuator_removed, data_fire_announcement_removed, data_signage_removed])\n",
    "groups_removed = (['Basic'] * len(data_basic_removed) + ['Evacuator'] * len(data_evacuator_removed) +\n",
    "                  ['Fire Announcement'] * len(data_fire_announcement_removed) + ['Signage'] * len(data_signage_removed))\n",
    "\n",
    "data_fire = np.concatenate([data_basic_fire, data_evacuator_fire, data_fire_announcement_fire, data_signage_fire])\n",
    "groups_fire = (['Basic'] * len(data_basic_fire) + ['Evacuator'] * len(data_evacuator_fire) +\n",
    "               ['Fire Announcement'] * len(data_fire_announcement_fire) + ['Signage'] * len(data_signage_fire))\n",
    "\n",
    "data_spread = np.concatenate([data_basic_spread, data_evacuator_spread, data_fire_announcement_spread, data_signage_spread])\n",
    "groups_spread = (['Basic'] * len(data_basic_spread) + ['Evacuator'] * len(data_evacuator_spread) +\n",
    "                 ['Fire Announcement'] * len(data_fire_announcement_spread) + ['Signage'] * len(data_signage_spread))\n",
    "\n",
    "data_goal = np.concatenate([data_basic_goal, data_evacuator_goal, data_fire_announcement_goal, data_signage_goal])\n",
    "groups_goal = (['Basic'] * len(data_basic_goal) + ['Evacuator'] * len(data_evacuator_goal) +\n",
    "               ['Fire Announcement'] * len(data_fire_announcement_goal) + ['Signage'] * len(data_signage_goal))\n",
    "\n",
    "# Tukey's HSD Test\n",
    "print(\"Tukey's HSD for Agents Removed:\")\n",
    "tukey_removed = pairwise_tukeyhsd(endog=data_removed, groups=groups_removed, alpha=0.05)\n",
    "print(tukey_removed)\n",
    "print(tukey_removed.summary())\n",
    "\n",
    "print(\"\\nTukey's HSD for Knowledge of Disaster:\")\n",
    "tukey_fire = pairwise_tukeyhsd(endog=data_fire, groups=groups_fire, alpha=0.05)\n",
    "print(tukey_fire)\n",
    "print(tukey_fire.summary())\n",
    "\n",
    "print(\"\\nTukey's HSD for Spreading Exit Knowledge:\")\n",
    "tukey_spread = pairwise_tukeyhsd(endog=data_spread, groups=groups_spread, alpha=0.05)\n",
    "print(tukey_spread)\n",
    "print(tukey_spread.summary())\n",
    "\n",
    "print(\"\\nTukey's HSD for Changing Goals:\")\n",
    "tukey_goal = pairwise_tukeyhsd(endog=data_goal, groups=groups_goal, alpha=0.05)\n",
    "print(tukey_goal)\n",
    "print(tukey_goal.summary())"
   ]
  }
 ],
 "metadata": {
  "kernelspec": {
   "display_name": "Python 3",
   "language": "python",
   "name": "python3"
  },
  "language_info": {
   "codemirror_mode": {
    "name": "ipython",
    "version": 3
   },
   "file_extension": ".py",
   "mimetype": "text/x-python",
   "name": "python",
   "nbconvert_exporter": "python",
   "pygments_lexer": "ipython3",
   "version": "3.12.3"
  }
 },
 "nbformat": 4,
 "nbformat_minor": 2
}
