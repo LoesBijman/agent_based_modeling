{
 "cells": [
  {
   "cell_type": "code",
   "execution_count": 9,
   "metadata": {},
   "outputs": [],
   "source": [
    "import pysocialforce as psf\n",
    "import numpy as np\n",
    "\n",
    "\n",
    "# pip install 'pysocialforce[test,plot]' to run this example"
   ]
  },
  {
   "cell_type": "code",
   "execution_count": 12,
   "metadata": {},
   "outputs": [
    {
     "data": {
      "text/plain": [
       "<pysocialforce.simulator.Simulator at 0x2c66c3be250>"
      ]
     },
     "execution_count": 12,
     "metadata": {},
     "output_type": "execute_result"
    }
   ],
   "source": [
    "# initiate simulator\n",
    "initial_state = np.array(\n",
    "    # [x, y, vx, vy, goal x, goal y]\n",
    "        [\n",
    "            [-2, 5, 1, 0, 3, 5],\n",
    "            [8, 5, -1, 0, 3, 5],\n",
    "            [-2, 1, 1, 0, 3, 1],\n",
    "            [8, 1, -1, 0, 3, 1],\n",
    "        ])\n",
    "\n",
    "# initiate groups\n",
    "groups = None # [[0,1]]\n",
    "\n",
    "# initiate linear obstacle (x1, x2, y1, y2)\n",
    "obstacles = None\n",
    "\n",
    "# initiate simulator\n",
    "# config file is for social forces\n",
    "sim = psf.Simulator(\n",
    "        initial_state, groups=groups, obstacles=obstacles, config_file=\"loes.toml\"\n",
    "    )\n",
    "# do 50 updates\n",
    "sim.step(n=50)"
   ]
  },
  {
   "cell_type": "code",
   "execution_count": 13,
   "metadata": {},
   "outputs": [
    {
     "name": "stderr",
     "output_type": "stream",
     "text": [
      "INFO:[plot.py:131            __enter__() ] Start plotting.\n",
      "INFO:[plot.py:162             __exit__() ] Plotting ends.\n",
      "INFO:[plot.py:166             __exit__() ] Saving animation as example.gif\n",
      "DEBUG:[animation.py:659          isAvailable() ] ImageMagick unavailable due to: Failed to find an ImageMagick installation\n",
      "WARNING:[animation.py:1049                 save() ] MovieWriter imagemagick unavailable; using Pillow instead.\n",
      "INFO:[animation.py:1052                 save() ] Animation.save using <class 'matplotlib.animation.PillowWriter'>\n"
     ]
    }
   ],
   "source": [
    "with psf.plot.SceneVisualizer(sim, \"example\") as sv:\n",
    "        sv.animate()"
   ]
  }
 ],
 "metadata": {
  "kernelspec": {
   "display_name": "Python 3",
   "language": "python",
   "name": "python3"
  },
  "language_info": {
   "codemirror_mode": {
    "name": "ipython",
    "version": 3
   },
   "file_extension": ".py",
   "mimetype": "text/x-python",
   "name": "python",
   "nbconvert_exporter": "python",
   "pygments_lexer": "ipython3",
   "version": "3.11.9"
  }
 },
 "nbformat": 4,
 "nbformat_minor": 2
}
