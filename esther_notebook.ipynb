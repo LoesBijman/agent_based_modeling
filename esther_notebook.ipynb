{
 "cells": [
  {
   "cell_type": "code",
   "execution_count": 9,
   "metadata": {},
   "outputs": [],
   "source": [
    "import pysocialforce as psf\n",
    "import numpy as np"
   ]
  },
  {
   "cell_type": "code",
   "execution_count": 73,
   "metadata": {},
   "outputs": [
    {
     "data": {
      "text/plain": [
       "<pysocialforce.simulator.Simulator at 0x1bc40eefc10>"
      ]
     },
     "execution_count": 73,
     "metadata": {},
     "output_type": "execute_result"
    }
   ],
   "source": [
    "# initiate simulator\n",
    "initial_state = np.array(\n",
    "    # [x, y, vx, vy, goal x, goal y]\n",
    "        [\n",
    "            [3, 5, -1, -1, 1, 1],\n",
    "            [3, 6, -1, -1, 1, 1],\n",
    "            [3, 5.0000001, -1, -1, 1, 1],\n",
    "            [2, 1, -1, -1, -3, -3],\n",
    "            # [0, 10, -0.5, -0.5, 0.0, 0.0],\n",
    "            # [0, 10, -0.5, -0.5, 0.5, 0.0]\n",
    "            # [0.0, 0.0, 0.0, 0.5, 1.0, 10.0],\n",
    "            # [1.0, 0.0, 0.0, 0.5, 2.0, 10.0],\n",
    "            # [2.0, 0.0, 0.0, 0.5, 3.0, 10.0],\n",
    "            # [3.0, 0.0, 0.0, 0.5, 4.0, 10.0],\n",
    "        ])\n",
    "\n",
    "# initiate groups\n",
    "groups = None\n",
    "\n",
    "# initiate obstacles\n",
    "obstacles = None\n",
    "\n",
    "\n",
    "sim = psf.Simulator(\n",
    "        initial_state, groups=groups, obstacles=obstacles\n",
    "    )\n",
    "# do 50 updates\n",
    "sim.step(n=50)"
   ]
  },
  {
   "cell_type": "code",
   "execution_count": 74,
   "metadata": {},
   "outputs": [
    {
     "name": "stderr",
     "output_type": "stream",
     "text": [
      "INFO:[plot.py:131            __enter__() ] Start plotting.\n"
     ]
    },
    {
     "name": "stderr",
     "output_type": "stream",
     "text": [
      "INFO:[plot.py:162             __exit__() ] Plotting ends.\n",
      "INFO:[plot.py:166             __exit__() ] Saving animation as example.gif\n",
      "DEBUG:[animation.py:659          isAvailable() ] ImageMagick unavailable due to: Failed to find an ImageMagick installation\n",
      "WARNING:[animation.py:1049                 save() ] MovieWriter imagemagick unavailable; using Pillow instead.\n",
      "INFO:[animation.py:1052                 save() ] Animation.save using <class 'matplotlib.animation.PillowWriter'>\n"
     ]
    }
   ],
   "source": [
    "with psf.plot.SceneVisualizer(sim, \"example\") as sv:\n",
    "        sv.animate()"
   ]
  }
 ],
 "metadata": {
  "kernelspec": {
   "display_name": "Python 3",
   "language": "python",
   "name": "python3"
  },
  "language_info": {
   "codemirror_mode": {
    "name": "ipython",
    "version": 3
   },
   "file_extension": ".py",
   "mimetype": "text/x-python",
   "name": "python",
   "nbconvert_exporter": "python",
   "pygments_lexer": "ipython3",
   "version": "3.11.9"
  }
 },
 "nbformat": 4,
 "nbformat_minor": 2
}
